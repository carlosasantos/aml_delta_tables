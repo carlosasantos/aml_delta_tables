{
  "cells": [
    {
      "cell_type": "markdown",
      "metadata": {
        "nteract": {
          "transient": {
            "deleting": false
          }
        }
      },
      "source": [
        "# Creating an ADLS v2 Datastore using the python SDKv2\n",
        "\n",
        "#### This notebook includes an example on how to programmatically create an ADLS2 datastore using python SDKv2 \n",
        "\n",
        "**Note:** Please note this approach applies even if the datalake sits in a different subscription than the AML workspace"
      ]
    },
    {
      "cell_type": "code",
      "execution_count": null,
      "metadata": {
        "gather": {
          "logged": 1678881411752
        }
      },
      "outputs": [],
      "source": [
        "from azure.ai.ml.entities import AzureDataLakeGen2Datastore, ServicePrincipalConfiguration, AzureBlobDatastore, AccountKeyConfiguration\n",
        "from azure.ai.ml.operations import DatastoreOperations\n",
        "from azure.ai.ml import MLClient\n",
        "from azure.identity import DefaultAzureCredential\n",
        "import azure.ai.ml as aml"
      ]
    },
    {
      "cell_type": "code",
      "execution_count": null,
      "metadata": {
        "gather": {
          "logged": 1678881413934
        },
        "jupyter": {
          "outputs_hidden": false,
          "source_hidden": false
        },
        "nteract": {
          "transient": {
            "deleting": false
          }
        }
      },
      "outputs": [],
      "source": [
        "aml.__version__"
      ]
    },
    {
      "cell_type": "code",
      "execution_count": null,
      "metadata": {
        "gather": {
          "logged": 1678885757067
        },
        "jupyter": {
          "outputs_hidden": false,
          "source_hidden": false
        },
        "nteract": {
          "transient": {
            "deleting": false
          }
        }
      },
      "outputs": [],
      "source": [
        "#Enter details of your AzureML workspace\n",
        "subscription_id = ''\n",
        "resource_group = ''\n",
        "workspace_name = ''\n",
        "\n",
        "ml_client = MLClient(credential=DefaultAzureCredential(),\n",
        "                     subscription_id=subscription_id, \n",
        "                     resource_group_name=resource_group,\n",
        "                     workspace_name=workspace_name)"
      ]
    },
    {
      "cell_type": "code",
      "execution_count": null,
      "metadata": {
        "gather": {
          "logged": 1678885759001
        },
        "jupyter": {
          "outputs_hidden": false,
          "source_hidden": false
        },
        "nteract": {
          "transient": {
            "deleting": false
          }
        }
      },
      "outputs": [],
      "source": [
        "# Datastore configuration\n",
        "datastore_name = '' # name of the datastore you are about to create\n",
        "adls2_account_name = '' # name of the storage account where the datalake lies\n",
        "filesystem = '' # \"container\" name where the data lies\n",
        "# Service principal authentiation - First create the service principle and grant access to the adls2 account\n",
        "tenant_id = ''\n",
        "client_id = ''\n",
        "client_secret = ''\n",
        "\n",
        "store = AzureDataLakeGen2Datastore(\n",
        "    name=datastore_name,\n",
        "    description='this is an example of alds on different subscription',\n",
        "    account_name=adls2_account_name,\n",
        "    filesystem=filesystem,\n",
        "    credentials=ServicePrincipalConfiguration(\n",
        "        tenant_id=tenant_id,\n",
        "        client_id=client_id,\n",
        "        client_secret=client_secret)\n",
        "    )"
      ]
    },
    {
      "cell_type": "code",
      "execution_count": null,
      "metadata": {
        "gather": {
          "logged": 1678885762488
        },
        "jupyter": {
          "outputs_hidden": false,
          "source_hidden": false
        },
        "nteract": {
          "transient": {
            "deleting": false
          }
        }
      },
      "outputs": [],
      "source": [
        "ml_client.create_or_update(store)"
      ]
    }
  ],
  "metadata": {
    "kernel_info": {
      "name": "python310-sdkv2"
    },
    "kernelspec": {
      "display_name": "Python 3.10 - SDK v2",
      "language": "python",
      "name": "python310-sdkv2"
    },
    "language_info": {
      "codemirror_mode": {
        "name": "ipython",
        "version": 3
      },
      "file_extension": ".py",
      "mimetype": "text/x-python",
      "name": "python",
      "nbconvert_exporter": "python",
      "pygments_lexer": "ipython3",
      "version": "3.10.9"
    },
    "microsoft": {
      "host": {
        "AzureML": {
          "notebookHasBeenCompleted": true
        }
      },
      "ms_spell_check": {
        "ms_spell_check_language": "en"
      }
    },
    "nteract": {
      "version": "nteract-front-end@1.0.0"
    }
  },
  "nbformat": 4,
  "nbformat_minor": 2
}
